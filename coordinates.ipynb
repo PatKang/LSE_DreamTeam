{
 "cells": [
  {
   "cell_type": "markdown",
   "id": "9eda61a4",
   "metadata": {},
   "source": [
    "# Getting coordinates of count sites "
   ]
  },
  {
   "cell_type": "code",
   "execution_count": 1,
   "id": "adfa53a8",
   "metadata": {},
   "outputs": [],
   "source": [
    "# Import packages \n",
    "import pandas as pd\n",
    "import re\n",
    "# Ignore warnings\n",
    "pd.options.mode.chained_assignment = None \n",
    "# Set up geopy\n",
    "from geopy.geocoders import Nominatim\n",
    "geolocator = Nominatim(user_agent = \"my_request\")"
   ]
  },
  {
   "cell_type": "code",
   "execution_count": 2,
   "id": "79da6602",
   "metadata": {},
   "outputs": [],
   "source": [
    "# Import and view data \n",
    "pd.set_option('display.max_rows', 2050)\n",
    "sites = pd.read_excel('London/Biking sites.xlsx')\n",
    "#sites"
   ]
  },
  {
   "cell_type": "code",
   "execution_count": 3,
   "id": "12b13778",
   "metadata": {},
   "outputs": [],
   "source": [
    "# Remove brackets (and contents) \n",
    "for i in range(sites.shape[0]):\n",
    "    sites.Location[i] = re.sub(\"[\\(].*?[\\)]\", \"\", sites.Location[i])"
   ]
  },
  {
   "cell_type": "code",
   "execution_count": 4,
   "id": "dea3cd14",
   "metadata": {},
   "outputs": [],
   "source": [
    "# Suggest correcting any suspected errors \n",
    "sites.Location[148] = 'Sumner Street'\n",
    "sites.Borough[154] = 'London'\n",
    "sites.Location[167] = 'Carlisle Lane'\n",
    "sites.Location[193] = 'Sullivan Road'\n",
    "sites.Location[195] = 'Juxon Street'\n",
    "sites.Location[207] = 'Sidmouth Street'\n",
    "sites.Location[252] = 'Upper Montagu Street'\n",
    "sites.Location[280] = 'Carlisle Lane'\n",
    "sites.Location[307] = 'Delancey Street'\n",
    "sites.Location[337] = 'Goldsmiths Row'\n",
    "sites.Location[349] = 'Rothsay Street' \n",
    "sites.Location[360] = 'Jubilee Street'\n",
    "sites.Location[361] = 'Back Church Lane'\n",
    "sites.Location[367] = 'Barlby Road'\n",
    "sites.Location[371] = 'Portland Road'\n",
    "sites.Location[393] = 'All Saints Road'\n",
    "sites.Location[427] = 'Wordsworth Road'\n",
    "sites.Location[439] = \"Alfred's Way\"\n",
    "sites.Location[478] = 'Margaret Mcmillan Park'\n",
    "sites.Location[505] = 'Hendon Way Childs Hill'\n",
    "sites.Location[524] = 'North Carriage Drive'\n",
    "sites.Location[527] = 'Apsley Way'\n",
    "sites.Location[558] = 'Sidmouth Street'\n",
    "sites.Location[565] = \"Shepherd's Bush station\"\n",
    "sites.Location[599] = 'Kennington Lane'\n",
    "sites.Location[605] = 'Wimbledon War Memorial'\n",
    "sites.Location[685] = 'Lavender Hill'\n",
    "sites.Location[902] = 'Valetta Road'\n",
    "sites.Location[1073] = 'Esmond Street'\n",
    "sites.Borough[1118] = 'London'\n",
    "sites.Location[1211] = 'Spitalfields Market Bus Stop Ruckholt Road'\n",
    "sites.Location[1350] = 'Stopford Road'\n",
    "sites.Location[1447] = 'Fullwell Avenue'\n",
    "sites.Location[1457] = 'The Bishops Avenue'\n",
    "sites.Location[1463] = 'Harvil Road'\n",
    "sites.Location[1484] = 'Hawarden Hill'\n",
    "sites.Location[1543] = 'Woodlands Road'\n",
    "sites.Location[1623] = 'Willett Way'\n",
    "sites.Location[1641] = \"St. Mark's Road\"\n",
    "sites.Location[1683] = 'Beckton Corridor'\n",
    "sites.Location[1693] = 'Aldersbrook'\n",
    "sites.Location[1740] = 'Rothsay Street' \n",
    "sites.Location[1756] = 'Coppermill Lane' \n",
    "sites.Location[1757] = 'Waterside' \n",
    "sites.Location[1757] = 'Walthamstow Marshes' \n",
    "sites.Location[1771] = 'Ordnance Hill'\n",
    "sites.Location[1793] = 'The Rosendale'\n",
    "sites.Location[1806] = \"St. Stephen's Road\"\n",
    "sites.Location[1825] = \"Potter's Lane\"\n",
    "sites.Location[1831] = \"Parson's Mead\"\n",
    "sites.Location[1851] = 'Wandle Meadow Nature Park'\n",
    "sites.Location[1852] = 'Roseneath Road'\n",
    "sites.Location[1859] = 'Saxon Road'\n",
    "sites.Location[1927] = 'Roehampton Gate'\n",
    "sites.Location[1936] = 'Addington Square'\n",
    "sites.Location[1948] = 'Oakfield Road'\n",
    "sites.Location[1957] = 'Palmerston Road'\n",
    "sites.Location[1983] = 'Coldbath Street'\n",
    "sites.Location[1993] = 'Gordon Road'\n",
    "sites.Location[1984] = 'Blissett Street'\n",
    "# more to add... "
   ]
  },
  {
   "cell_type": "code",
   "execution_count": 5,
   "id": "e43fe6b4",
   "metadata": {
    "scrolled": true
   },
   "outputs": [
    {
     "name": "stdout",
     "output_type": "stream",
     "text": [
      "441 Newham Way Mid Newham\n",
      "442 Newham Way West Newham\n",
      "458 Evelyn Street South Lewisham\n",
      "459 Evelyn Street North Lewisham\n",
      "1100 Thames Path  Hammersmith & Fulham\n",
      "1111 Thames Path  Southwark\n",
      "1122 Limehouse towpath Tower Hamlets\n",
      "1124 North Millfields Recreation Ground Hackney\n",
      "1132 Leyton Marshes Waltham Forest\n",
      "1133 Grand Regent's Canal  Hackney\n",
      "1135 Ornamental Canal Tower Hamlets\n",
      "1136 Grand Union towpath  Islington\n",
      "1138 Crossharbour underpass Tower Hamlets\n",
      "1143 Surrey Canal path Southwark\n",
      "1153 Thames Path  Wandsworth\n",
      "1156 Thames Path  Wandsworth\n",
      "1158 Thames Path  Wandsworth\n",
      "1165 Thames Path  Hammersmith & Fulham\n",
      "1228 Off-road near Montagu Road Enfield\n",
      "1252 Riverside Walk  Kingston upon Thames\n",
      "1267 New Malden to Raynes Park link Kingston upon Thames\n",
      "1272 Bucklands Wharf Kingston upon Thames\n",
      "1653 Cowley Bridge Lock Hillingdon\n",
      "1654 Harrow School playing fields Harrow\n",
      "1663 Tokyngton Recreation Ground Brent\n",
      "1664 Widewater Lock Hillingdon\n",
      "1669 Jim O'Neill Walk Hillingdon\n",
      "1676 Ferry Lane towpath Haringey\n",
      "1679 Thames Path  Havering\n",
      "1685 River Lee Ordnance Road Enfield\n",
      "1687 Poplar Place cycle path Greenwich\n",
      "1692 Roding River path  Barking & Dagenham\n",
      "1707 Parsonage Manorway cycle path Bexley\n",
      "1711 River Crane path  Richmond upon Thames\n",
      "1712 Church Fields Recreation Ground Kingston upon Thames\n",
      "1713 Brent river path  Ealing\n",
      "1722 The Chase Merton\n",
      "1723 Little Benty footbridge Hillingdon\n",
      "1725 Collingwood Road Recreation Ground Sutton\n",
      "1733 Bushy Park Church Grove Richmond upon Thames\n",
      "1734 Thames Path  Kingston upon Thames\n",
      "1749 Fairlop Fields Redbridge\n",
      "1750 Deptford Creek Bridge Lewisham\n",
      "1758 Leyton Marshes Waltham Forest\n",
      "1759 Lea Valley Walk  Hackney\n",
      "1777 A406 crossing Redbridge\n",
      "1819 Cavendish Road South Circular Lambeth\n",
      "1844 Bancroft Road railway bridge Tower Hamlets\n",
      "1847 Cycle path  Southwark\n",
      "1848 Flyover at Senegal Road  Lewisham\n",
      "1864 Thameside Walk  Bexley\n",
      "1874 Blackwall Tunnel overbridge Greenwich\n",
      "1881 Thames Path  Southwark\n",
      "1890 Kidbrooke interchange  Greenwich\n",
      "1913 Canal Way by Scrubs Lane//Mitre Bridge Hammersmith & Fulham\n",
      "1915 Cycle lane  Westminster\n",
      "1924 Cycle path  Richmond upon Thames\n",
      "1925 Cycle path  Richmond upon Thames\n",
      "1926 Cycle path  Richmond upon Thames\n",
      "1976 Pool riverside path Bromley\n",
      "1978 Pool river path Lewisham\n",
      "1979 Riverview Walk Lewisham\n",
      "1980 Ravensbourne river bridge Lewisham\n",
      "2002 River path Merton\n"
     ]
    }
   ],
   "source": [
    "# Print addresses where coordinates cannot be found \n",
    "lat = []\n",
    "long = []\n",
    "for i in range(sites.shape[0]):\n",
    "    location = geolocator.geocode(sites.Location[i] + ' ' + sites.Borough[i])\n",
    "    try:\n",
    "        lat.append(location.latitude)\n",
    "        long.append(location.longitude)\n",
    "    except:\n",
    "        print(i, sites.Location[i], sites.Borough[i])"
   ]
  },
  {
   "cell_type": "code",
   "execution_count": 6,
   "id": "75bf3035",
   "metadata": {},
   "outputs": [],
   "source": [
    "# Check individual addresses here \n",
    "#location = geolocator.geocode(\"\")\n",
    "#print((location.latitude, location.longitude))"
   ]
  },
  {
   "cell_type": "code",
   "execution_count": 12,
   "id": "8050c17e",
   "metadata": {},
   "outputs": [
    {
     "name": "stdout",
     "output_type": "stream",
     "text": [
      "2023\n",
      "1959\n",
      "64\n"
     ]
    }
   ],
   "source": [
    "# Coordinates found vs missing \n",
    "print(sites.shape[0])\n",
    "print(len(lat))\n",
    "print(sites.shape[0] - len(lat))"
   ]
  },
  {
   "cell_type": "code",
   "execution_count": null,
   "id": "735c93ee",
   "metadata": {},
   "outputs": [],
   "source": [
    "# When we have coordinates for all sites, \n",
    "# Write code to add these to table"
   ]
  }
 ],
 "metadata": {
  "kernelspec": {
   "display_name": "Python 3 (ipykernel)",
   "language": "python",
   "name": "python3"
  },
  "language_info": {
   "codemirror_mode": {
    "name": "ipython",
    "version": 3
   },
   "file_extension": ".py",
   "mimetype": "text/x-python",
   "name": "python",
   "nbconvert_exporter": "python",
   "pygments_lexer": "ipython3",
   "version": "3.9.7"
  }
 },
 "nbformat": 4,
 "nbformat_minor": 5
}
